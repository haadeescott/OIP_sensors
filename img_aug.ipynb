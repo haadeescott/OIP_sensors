{
 "cells": [
  {
   "cell_type": "code",
   "execution_count": null,
   "source": [
    "import albumentations as A\r\n",
    "import cv2\r\n",
    "from matplotlib import pyplot as plt\r\n",
    "\r\n",
    "def visualize(image):\r\n",
    "    plt.figure(figsize=(10, 10))\r\n",
    "    plt.axis('off')\r\n",
    "    plt.imshow(image)\r\n",
    "\r\n",
    "image = cv2.imread('C:/Users/ahf_h/Documents/GitHub/OIP_sensors/images/image1.jpg')\r\n",
    "image = cv2.cvtColor(image, cv2.COLOR_BGR2RGB)\r\n",
    "\r\n",
    "transform = A.Compose(\r\n",
    "    [A.CLAHE(),\r\n",
    "     A.RandomRotate90(),\r\n",
    "     A.Transpose(),\r\n",
    "     A.ShiftScaleRotate(shift_limit=0.0625, scale_limit=0.50,\r\n",
    "                        rotate_limit=45, p=.75),\r\n",
    "     A.Blur(blur_limit=3),\r\n",
    "     A.OpticalDistortion(),\r\n",
    "     A.GridDistortion(),\r\n",
    "     A.HueSaturationValue()])\r\n",
    "\r\n",
    "augmented_image = transform(image=image)['image']\r\n",
    "visualize(augmented_image)"
   ],
   "outputs": [],
   "metadata": {}
  },
  {
   "cell_type": "code",
   "execution_count": null,
   "source": [
    "from numpy import expand_dims\r\n",
    "from keras.preprocessing.image import load_img\r\n",
    "from keras.preprocessing.image import img_to_array\r\n",
    "from keras.preprocessing.image import ImageDataGenerator\r\n",
    "from matplotlib import pyplot\r\n",
    "# load the image\r\n",
    "img = load_img('images/image1.jpg')\r\n",
    "# convert to numpy array\r\n",
    "data = img_to_array(img)\r\n",
    "# expand dimension to one sample\r\n",
    "samples = expand_dims(data, 0)\r\n",
    "# create image data augmentation generator\r\n",
    "datagen = ImageDataGenerator(brightness_range=[0.2,1.0])\r\n",
    "# prepare iterator\r\n",
    "it = datagen.flow(samples, batch_size=1)\r\n",
    "# generate samples and plot\r\n",
    "for i in range(9):\r\n",
    "\t# define subplot\r\n",
    "\tpyplot.subplot(330 + 1 + i)\r\n",
    "\t# generate batch of images\r\n",
    "\tbatch = it.next()\r\n",
    "\t# convert to unsigned integers for viewing\r\n",
    "\timage = batch[0].astype('uint8')\r\n",
    "\t# plot raw pixel data\r\n",
    "\tpyplot.imshow(image)\r\n",
    "# show the figure\r\n",
    "pyplot.show()"
   ],
   "outputs": [],
   "metadata": {}
  },
  {
   "cell_type": "code",
   "execution_count": 24,
   "source": [
    "from keras.preprocessing.image import ImageDataGenerator\r\n",
    "import numpy as np\r\n",
    "import scipy.ndimage\r\n",
    "import imageio\r\n",
    "\r\n",
    "datagen = ImageDataGenerator(rotation_range=10, width_shift_range=0.1, \r\n",
    "height_shift_range=0.1,shear_range=0.15, \r\n",
    "zoom_range=0.1,channel_shift_range = 10, horizontal_flip=True)\r\n",
    "\r\n",
    "image_path = 'images/1/image1.jpg'\r\n",
    "image = np.expand_dims(imageio.imread(image_path), 0)\r\n",
    "\r\n",
    "save_here = 'images/augmented/'\r\n",
    "\r\n",
    "datagen.fit(image)"
   ],
   "outputs": [
    {
     "output_type": "error",
     "ename": "AttributeError",
     "evalue": "module 'scipy.ndimage' has no attribute 'imageio'",
     "traceback": [
      "\u001b[1;31m---------------------------------------------------------------------------\u001b[0m",
      "\u001b[1;31mAttributeError\u001b[0m                            Traceback (most recent call last)",
      "\u001b[1;32m<ipython-input-24-b0d22599ace2>\u001b[0m in \u001b[0;36m<module>\u001b[1;34m\u001b[0m\n\u001b[0;32m      9\u001b[0m \u001b[1;33m\u001b[0m\u001b[0m\n\u001b[0;32m     10\u001b[0m \u001b[0mimage_path\u001b[0m \u001b[1;33m=\u001b[0m \u001b[1;34m'images/1/image1.jpg'\u001b[0m\u001b[1;33m\u001b[0m\u001b[1;33m\u001b[0m\u001b[0m\n\u001b[1;32m---> 11\u001b[1;33m \u001b[0mimage\u001b[0m \u001b[1;33m=\u001b[0m \u001b[0mnp\u001b[0m\u001b[1;33m.\u001b[0m\u001b[0mexpand_dims\u001b[0m\u001b[1;33m(\u001b[0m\u001b[0mndimage\u001b[0m\u001b[1;33m.\u001b[0m\u001b[0mimageio\u001b[0m\u001b[1;33m.\u001b[0m\u001b[0mimread\u001b[0m\u001b[1;33m(\u001b[0m\u001b[0mimage_path\u001b[0m\u001b[1;33m)\u001b[0m\u001b[1;33m,\u001b[0m \u001b[1;36m0\u001b[0m\u001b[1;33m)\u001b[0m\u001b[1;33m\u001b[0m\u001b[1;33m\u001b[0m\u001b[0m\n\u001b[0m\u001b[0;32m     12\u001b[0m \u001b[1;33m\u001b[0m\u001b[0m\n\u001b[0;32m     13\u001b[0m \u001b[0msave_here\u001b[0m \u001b[1;33m=\u001b[0m \u001b[1;34m'images/augmented/'\u001b[0m\u001b[1;33m\u001b[0m\u001b[1;33m\u001b[0m\u001b[0m\n",
      "\u001b[1;31mAttributeError\u001b[0m: module 'scipy.ndimage' has no attribute 'imageio'"
     ]
    }
   ],
   "metadata": {}
  }
 ],
 "metadata": {
  "orig_nbformat": 4,
  "language_info": {
   "name": "python",
   "version": "3.9.2",
   "mimetype": "text/x-python",
   "codemirror_mode": {
    "name": "ipython",
    "version": 3
   },
   "pygments_lexer": "ipython3",
   "nbconvert_exporter": "python",
   "file_extension": ".py"
  },
  "kernelspec": {
   "name": "python3",
   "display_name": "Python 3.9.2 64-bit"
  },
  "interpreter": {
   "hash": "ac59ebe37160ed0dfa835113d9b8498d9f09ceb179beaac4002f036b9467c963"
  }
 },
 "nbformat": 4,
 "nbformat_minor": 2
}